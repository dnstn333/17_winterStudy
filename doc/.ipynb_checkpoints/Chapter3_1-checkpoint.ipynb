{
 "cells": [
  {
   "cell_type": "markdown",
   "metadata": {},
   "source": [
    "# 3. 신경망\n",
    "* 이전 퍼셉트론으로 두 가지를 확인\n",
    "    1. 퍼셉트론으로 복잡한 함수도 표현할 수 있음\n",
    "    2. 가중치를 설정하는 작업을 수동으로 진행"
   ]
  },
  {
   "cell_type": "markdown",
   "metadata": {},
   "source": [
    "* 신경망은 이 중, 1번은 유지하면서 2번을 해결"
   ]
  },
  {
   "cell_type": "markdown",
   "metadata": {},
   "source": [
    "## 3.1 퍼셉트론에서 신경망으로"
   ]
  },
  {
   "cell_type": "markdown",
   "metadata": {},
   "source": [
    "### 3.1.1 신경망의 예\n",
    "* 신경망은 간단히 아래 그림과 같음\n",
    "<img src=\"../img/3-1.jpg\" width=\"400\"></img>\n",
    "* 은닉층은 나머지 두 층과 달리 사람 눈에 보이지 않음"
   ]
  },
  {
   "cell_type": "markdown",
   "metadata": {},
   "source": [
    "<script type=\"text/javascript\" src=\"http://cdn.mathjax.org/mathjax/latest/MathJax.js?config=TeX-AMS-MML_HTMLorMML\" ></script>\n",
    "\n",
    "### 3.1.2 퍼셉트론 복습\n",
    "* 이 전장에서 말한 것과 같이 퍼셉트론은 다음과 같은 구조와 식[식3.1]을 가지고 있음\n",
    "<img src=\"../img/2-1.jpg\" width=\"250\"></img>\n",
    "\n",
    "\\\\[ y =\n",
    "  \\begin{cases}\n",
    "    0  & \\quad (b + w_1 x_1 + w_2 x_2 \\leq 0)\\\\\n",
    "    1  & \\quad (b + w_1 x_1 + w_2 x_2 > 0)\\\\\n",
    "  \\end{cases}\n",
    "\\\\]"
   ]
  },
  {
   "cell_type": "markdown",
   "metadata": {},
   "source": [
    "* 그런데 이 네트워크에서는 편향 \\\\(b\\\\)가 보이지 않음\n",
    "    * 따라서 이를 명시하면 다음과 같음\n",
    "<img src=\"../img/3-3.jpg\" width=\"250\"></img>"
   ]
  },
  {
   "cell_type": "markdown",
   "metadata": {},
   "source": [
    "* 더하여 위 식을 간단한 형태로 표시하면 다음식[식3.2, 식 3.3]과 같음\n",
    "\n",
    "\\\\[ y = h(b + w_1 x_1 + w_2 x_2) \\\\]\n",
    "\n",
    "\\\\[ h(x) =\n",
    "  \\begin{cases}\n",
    "    0  & \\quad (x \\leq 0)\\\\\n",
    "    1  & \\quad (x > 0)\\\\\n",
    "  \\end{cases}\n",
    "\\\\]"
   ]
  },
  {
   "cell_type": "markdown",
   "metadata": {},
   "source": [
    "### 3.1.3 활성화 함수 등장\n",
    "* 방금 본 두 식에서 사용된 \\\\(h(x)\\\\)는 일반적으로 \\\\(\\text{활성화 함수}^{activation funtion} \\\\)라고 함\n",
    "* 이 활성화 함수를 다시 두 식으로 나누면 다음식[식3.4, 식 3.5]과 같음\n",
    "\\\\[ a = b + w_1 x_1 + w_2 x_2 \\\\]\n",
    "\\\\[ y = h(a) \\\\]"
   ]
  },
  {
   "cell_type": "markdown",
   "metadata": {},
   "source": [
    "* 그리고 이를 그림으로 그리면 다음과 같음\n",
    "<img src=\"../img/3-4.jpg\" width=\"250\"></img>"
   ]
  },
  {
   "cell_type": "markdown",
   "metadata": {},
   "source": [
    "## 3.2 활성화 함수\n",
    "* 앞에서 본 [식3.3]은 임계값을 경계로 값이 바뀌는데, 이런 함수는 \\\\(\\text{계단 함수}^{step funtion} \\\\)라고 함\n",
    "* 즉 지금까지는 \"퍼셉트론에서 활성화 함수로 '계단 함수'를 사용했다.\"는 것\n",
    "* 이제 다양한 활성화 함수에 대해 소개함"
   ]
  },
  {
   "cell_type": "markdown",
   "metadata": {},
   "source": [
    "### 3.2.1 시그모이드 함수\n",
    "* 다음은 신경망에서 자주 이용하는 \\\\({\\text{시그모이드 함수}}^{sigmoid funtion} \\\\)를 나타낸 식[식3.6]이다.\n",
    "\\\\[ h(x) = \\frac{1}{1+\\text{exp}(-x)} \\\\]\n",
    "* 여기서 \\\\(\\text{exp}(-x)\\\\)는 \\\\(e^{-x}\\\\)를  뜻함"
   ]
  },
  {
   "cell_type": "markdown",
   "metadata": {},
   "source": [
    "### 3.2.2 계단함수 구현하기"
   ]
  },
  {
   "cell_type": "code",
   "execution_count": 14,
   "metadata": {
    "collapsed": true
   },
   "outputs": [],
   "source": [
    "def step_function(x):\n",
    "    if x > 0:\n",
    "        return 1\n",
    "    else:\n",
    "        return 0"
   ]
  },
  {
   "cell_type": "code",
   "execution_count": 2,
   "metadata": {
    "collapsed": false
   },
   "outputs": [
    {
     "name": "stdout",
     "output_type": "stream",
     "text": [
      "1\n"
     ]
    }
   ],
   "source": [
    "print step_funtion(3.0)"
   ]
  },
  {
   "cell_type": "code",
   "execution_count": 3,
   "metadata": {
    "collapsed": false
   },
   "outputs": [
    {
     "ename": "NameError",
     "evalue": "name 'np' is not defined",
     "output_type": "error",
     "traceback": [
      "\u001b[1;31m---------------------------------------------------------------------------\u001b[0m",
      "\u001b[1;31mNameError\u001b[0m                                 Traceback (most recent call last)",
      "\u001b[1;32m<ipython-input-3-576fae9557a5>\u001b[0m in \u001b[0;36m<module>\u001b[1;34m()\u001b[0m\n\u001b[1;32m----> 1\u001b[1;33m \u001b[0my\u001b[0m \u001b[1;33m=\u001b[0m \u001b[0mnp\u001b[0m\u001b[1;33m.\u001b[0m\u001b[0marray\u001b[0m\u001b[1;33m(\u001b[0m\u001b[1;33m[\u001b[0m\u001b[1;36m3.0\u001b[0m\u001b[1;33m,\u001b[0m \u001b[1;36m2.0\u001b[0m\u001b[1;33m]\u001b[0m\u001b[1;33m)\u001b[0m\u001b[1;33m\u001b[0m\u001b[0m\n\u001b[0m",
      "\u001b[1;31mNameError\u001b[0m: name 'np' is not defined"
     ]
    }
   ],
   "source": [
    "y = np.array([3.0, 2.0])"
   ]
  },
  {
   "cell_type": "code",
   "execution_count": 15,
   "metadata": {
    "collapsed": true
   },
   "outputs": [],
   "source": [
    "def step_function2(x):\n",
    "    y = x > 0;\n",
    "    return y.astype(np.int)"
   ]
  },
  {
   "cell_type": "code",
   "execution_count": 8,
   "metadata": {
    "collapsed": false
   },
   "outputs": [
    {
     "name": "stdout",
     "output_type": "stream",
     "text": [
      "[-1.  1.  2.]\n"
     ]
    }
   ],
   "source": [
    "import numpy as np\n",
    "x = np.array([-1.0, 1.0, 2.0])\n",
    "print x"
   ]
  },
  {
   "cell_type": "code",
   "execution_count": 9,
   "metadata": {
    "collapsed": false
   },
   "outputs": [
    {
     "name": "stdout",
     "output_type": "stream",
     "text": [
      "[False  True  True]\n"
     ]
    }
   ],
   "source": [
    "y = x > 0\n",
    "print y"
   ]
  },
  {
   "cell_type": "code",
   "execution_count": 10,
   "metadata": {
    "collapsed": false
   },
   "outputs": [
    {
     "name": "stdout",
     "output_type": "stream",
     "text": [
      "[0 1 1]\n"
     ]
    }
   ],
   "source": [
    "y = y.astype(np.int)\n",
    "print y"
   ]
  },
  {
   "cell_type": "markdown",
   "metadata": {},
   "source": [
    "### 3.2.3 계단 함수의 그래프"
   ]
  },
  {
   "cell_type": "code",
   "execution_count": 16,
   "metadata": {
    "collapsed": false
   },
   "outputs": [
    {
     "data": {
      "image/png": "[encoded data removed]",
      "text/plain": [
       "<matplotlib.figure.Figure at 0x6c960b8>"
      ]
     },
     "metadata": {},
     "output_type": "display_data"
    }
   ],
   "source": [
    "%matplotlib inline\n",
    "\n",
    "import numpy as np\n",
    "import matplotlib.pylab as plt\n",
    "\n",
    "x = np.arange(-5.0, 5.0, 0.1)\n",
    "y = step_function2(x)\n",
    "\n",
    "plt.plot(x, y)\n",
    "plt.ylim(-0.1, 1.1) # y축 범위 지정\n",
    "plt.show()"
   ]
  },
  {
   "cell_type": "markdown",
   "metadata": {},
   "source": [
    "### 3.2.4 시그모이드 함수 구현하기"
   ]
  },
  {
   "cell_type": "code",
   "execution_count": 22,
   "metadata": {
    "collapsed": true
   },
   "outputs": [],
   "source": [
    "def sigmoid(x):\n",
    "    return 1 / ( 1 + np.exp(-x))"
   ]
  },
  {
   "cell_type": "code",
   "execution_count": 18,
   "metadata": {
    "collapsed": false
   },
   "outputs": [
    {
     "name": "stdout",
     "output_type": "stream",
     "text": [
      "[ 0.26894142  0.73105858  0.88079708]\n"
     ]
    }
   ],
   "source": [
    "x = np.array([-1.0, 1.0, 2.0])\n",
    "print signmoid(x)"
   ]
  },
  {
   "cell_type": "markdown",
   "metadata": {},
   "source": [
    "* 이런 연산이 되는 이유는 '브로드 캐스트'"
   ]
  },
  {
   "cell_type": "code",
   "execution_count": 20,
   "metadata": {
    "collapsed": false
   },
   "outputs": [
    {
     "name": "stdout",
     "output_type": "stream",
     "text": [
      "[ 0.  3.  4.]\n",
      "[-1.          0.5         0.33333333]\n"
     ]
    }
   ],
   "source": [
    "t = np.array([-1.0, 2.0, 3.0])\n",
    "print 1.0 + t\n",
    "print 1.0 / t"
   ]
  },
  {
   "cell_type": "code",
   "execution_count": 23,
   "metadata": {
    "collapsed": false
   },
   "outputs": [
    {
     "data": {
      "image/png": "[encoded data removed]",
      "text/plain": [
       "<matplotlib.figure.Figure at 0x6c7c0f0>"
      ]
     },
     "metadata": {},
     "output_type": "display_data"
    }
   ],
   "source": [
    "x = np.arange(-5.0, 5.0, 0.1)\n",
    "y = sigmoid(x)\n",
    "\n",
    "plt.plot(x, y)\n",
    "plt.ylim(-0.1, 1.1) # y축 범위 지정\n",
    "plt.show()"
   ]
  },
  {
   "cell_type": "markdown",
   "metadata": {},
   "source": [
    "### 3.2.5 시그모이드 함수와 계단함수 비교"
   ]
  },
  {
   "cell_type": "code",
   "execution_count": 30,
   "metadata": {
    "collapsed": false
   },
   "outputs": [
    {
     "data": {
      "image/png": "[encoded data removed]",
      "text/plain": [
       "<matplotlib.figure.Figure at 0x7f5cb38>"
      ]
     },
     "metadata": {},
     "output_type": "display_data"
    }
   ],
   "source": [
    "x = np.arange(-5.0, 5.0, 0.1)\n",
    "y1 = sigmoid(x)\n",
    "y2 = step_function2(x)\n",
    "\n",
    "plt.plot(x, y1, label=\"sigmoid\")\n",
    "plt.plot(x, y2, 'k--', label=\"step\")\n",
    "plt.ylim(-0.1, 1.1) # y축 범위 지정\n",
    "plt.legend()\n",
    "plt.show()"
   ]
  },
  {
   "cell_type": "markdown",
   "metadata": {},
   "source": [
    "### 3.2.6 비선형 함수\n",
    "* 계단 함수와 시그모이드 함수의 가장 큰 공통점은 둘 모두 <b>비선형 함수</b>라는 것\n",
    "* 신경망에서는 비선형 함수를 사용해야 함"
   ]
  },
  {
   "cell_type": "markdown",
   "metadata": {},
   "source": [
    "* 그 이유는 '신경망을 깊게 하는 의미'가 없어지기 때문\n",
    "* 간단한 예시로 설명하자면,\n",
    "    * 선형함수 \\\\(h(x) = cx\\\\)를 활성화 함수로 사용한 3층 네트워크를 작성\n",
    "    * 네트워크는 \\\\(y(x) = h(h(h(x)))\\\\)\n",
    "    * 이는 \\\\(y(x) = c * c * c * x\\\\)의 연산을 수행\n",
    "    * \\\\(y(x) = ax\\\\)에서 \\\\(a = c^3\\\\)이라하면 위와 동일한 식임\n",
    "    * 즉 '은닉층이 없는 네트워크'로 대체할 수 있음"
   ]
  },
  {
   "cell_type": "markdown",
   "metadata": {},
   "source": [
    "### 3.2.7 ReLU 함수\n",
    "* 최근에 자주 사용되는 \\\\({\\text{ReLU}}^{Rectified Linear Unit} \\\\)함수를 주로 사용\n",
    "* 이 함수는 입력이 0을 넘으면 그 입력을 그대로 출력하고, 0이 하면 0을 출력하는 함수\n",
    "* 이를 식으로 나탄내면 아래와 같음 [식 3.7]\n",
    "\\\\[ h(x) =\n",
    "  \\begin{cases}\n",
    "    0 & \\quad (x \\leq 0)\\\\\n",
    "    x  & \\quad (x > 0)\\\\\n",
    "  \\end{cases}\n",
    "\\\\]"
   ]
  },
  {
   "cell_type": "code",
   "execution_count": 31,
   "metadata": {
    "collapsed": true
   },
   "outputs": [],
   "source": [
    "def relu(x):\n",
    "    return np.maximum(0, x)"
   ]
  },
  {
   "cell_type": "code",
   "execution_count": 33,
   "metadata": {
    "collapsed": false
   },
   "outputs": [
    {
     "data": {
      "image/png": "[encoded data removed]",
      "text/plain": [
       "<matplotlib.figure.Figure at 0x7a44f98>"
      ]
     },
     "metadata": {},
     "output_type": "display_data"
    }
   ],
   "source": [
    "x = np.arange(-5.0, 5.0, 0.1)\n",
    "y = relu(x)\n",
    "\n",
    "plt.plot(x, y)\n",
    "plt.ylim(-0.1, 5) # y축 범위 지정\n",
    "plt.show()"
   ]
  },
  {
   "cell_type": "code",
   "execution_count": 36,
   "metadata": {
    "collapsed": false
   },
   "outputs": [
    {
     "data": {
      "image/png": "[encoded data removed]",
      "text/plain": [
       "<matplotlib.figure.Figure at 0x82f72b0>"
      ]
     },
     "metadata": {},
     "output_type": "display_data"
    }
   ],
   "source": [
    "x = np.arange(-5.0, 5.0, 0.1)\n",
    "y1 = sigmoid(x)\n",
    "y2 = step_function2(x)\n",
    "y3 = relu(x)\n",
    "\n",
    "plt.plot(x, y1, label=\"sigmoid\")\n",
    "plt.plot(x, y2, 'k--', label=\"step\")\n",
    "plt.plot(x, y3, 'k:', label=\"reLU\")\n",
    "plt.ylim(-0.1, 3) # y축 범위 지정\n",
    "plt.legend()\n",
    "plt.show()"
   ]
  },
  {
   "cell_type": "markdown",
   "metadata": {},
   "source": [
    "## 3.3 다차원 배열의 계산\n",
    "* 다차원 배열 계산에 숙달하면, 신경망을 효율적으로 구현할 수 있음\n",
    "* numpy의 다차원 배열 계산에 대해 설명"
   ]
  },
  {
   "cell_type": "markdown",
   "metadata": {},
   "source": [
    "### 3.3.1 다차원 배열\n",
    "* 다차원 배열 : 숫자의 집합\n",
    "* 다음은 지금까지 보아온 1차원 배열"
   ]
  },
  {
   "cell_type": "code",
   "execution_count": 1,
   "metadata": {
    "collapsed": false
   },
   "outputs": [
    {
     "name": "stdout",
     "output_type": "stream",
     "text": [
      "[1 2 3 4]\n"
     ]
    }
   ],
   "source": [
    "import numpy as np\n",
    "A = np.array([1, 2, 3, 4])\n",
    "print (A)"
   ]
  },
  {
   "cell_type": "code",
   "execution_count": 2,
   "metadata": {
    "collapsed": false
   },
   "outputs": [
    {
     "data": {
      "text/plain": [
       "1"
      ]
     },
     "execution_count": 2,
     "metadata": {},
     "output_type": "execute_result"
    }
   ],
   "source": [
    "np.ndim(A)"
   ]
  },
  {
   "cell_type": "code",
   "execution_count": 3,
   "metadata": {
    "collapsed": false
   },
   "outputs": [
    {
     "data": {
      "text/plain": [
       "(4L,)"
      ]
     },
     "execution_count": 3,
     "metadata": {},
     "output_type": "execute_result"
    }
   ],
   "source": [
    "A.shape"
   ]
  },
  {
   "cell_type": "code",
   "execution_count": 4,
   "metadata": {
    "collapsed": false
   },
   "outputs": [
    {
     "data": {
      "text/plain": [
       "4L"
      ]
     },
     "execution_count": 4,
     "metadata": {},
     "output_type": "execute_result"
    }
   ],
   "source": [
    "A.shape[0]"
   ]
  },
  {
   "cell_type": "code",
   "execution_count": 5,
   "metadata": {
    "collapsed": false
   },
   "outputs": [
    {
     "name": "stdout",
     "output_type": "stream",
     "text": [
      "(4L,)\n",
      "4\n"
     ]
    }
   ],
   "source": [
    "print A.shape\n",
    "print A.shape[0]"
   ]
  },
  {
   "cell_type": "code",
   "execution_count": 6,
   "metadata": {
    "collapsed": false
   },
   "outputs": [
    {
     "name": "stdout",
     "output_type": "stream",
     "text": [
      "[[1 2]\n",
      " [3 4]\n",
      " [5 6]]\n"
     ]
    }
   ],
   "source": [
    "B = np.array([[1,2],[3,4],[5,6]])\n",
    "print (B)"
   ]
  },
  {
   "cell_type": "code",
   "execution_count": 7,
   "metadata": {
    "collapsed": false
   },
   "outputs": [
    {
     "data": {
      "text/plain": [
       "2"
      ]
     },
     "execution_count": 7,
     "metadata": {},
     "output_type": "execute_result"
    }
   ],
   "source": [
    "np.ndim(B)"
   ]
  },
  {
   "cell_type": "code",
   "execution_count": 9,
   "metadata": {
    "collapsed": false
   },
   "outputs": [
    {
     "data": {
      "text/plain": [
       "(3L, 2L)"
      ]
     },
     "execution_count": 9,
     "metadata": {},
     "output_type": "execute_result"
    }
   ],
   "source": [
    "B.shape"
   ]
  },
  {
   "cell_type": "markdown",
   "metadata": {},
   "source": [
    "* 위 1차원 배열의 shape 결과 값이 튜플인 것은 3차원, 4차원에 대한 결과와 동일하기 위함\n",
    "* 아래 2차원 배열의 shape 결과 값 (3, 2)는 배열 3 X 2와 동일한 뜻\n",
    "<img src=\"../img/3-10.jpg\" width=\"500\"></img>"
   ]
  },
  {
   "cell_type": "markdown",
   "metadata": {},
   "source": [
    "### 3.3.2 행렬의 내적 (행렬 곱)\n",
    "* 행렬곱 계산 방법\n",
    "<img src=\"../img/3-11.jpg\" width=\"700\"></img>\n",
    "* 이를 Python으로 구현하면 다음과 같음"
   ]
  },
  {
   "cell_type": "code",
   "execution_count": 11,
   "metadata": {
    "collapsed": false
   },
   "outputs": [
    {
     "data": {
      "text/plain": [
       "(2L, 2L)"
      ]
     },
     "execution_count": 11,
     "metadata": {},
     "output_type": "execute_result"
    }
   ],
   "source": [
    "A = np.array([[1,2],[3,4]])\n",
    "A.shape"
   ]
  },
  {
   "cell_type": "code",
   "execution_count": 12,
   "metadata": {
    "collapsed": false
   },
   "outputs": [
    {
     "data": {
      "text/plain": [
       "(2L, 2L)"
      ]
     },
     "execution_count": 12,
     "metadata": {},
     "output_type": "execute_result"
    }
   ],
   "source": [
    "B = np.array([[5,6], [7,8]])\n",
    "B.shape"
   ]
  },
  {
   "cell_type": "code",
   "execution_count": 13,
   "metadata": {
    "collapsed": false
   },
   "outputs": [
    {
     "data": {
      "text/plain": [
       "array([[19, 22],\n",
       "       [43, 50]])"
      ]
     },
     "execution_count": 13,
     "metadata": {},
     "output_type": "execute_result"
    }
   ],
   "source": [
    "np.dot(A, B)"
   ]
  },
  {
   "cell_type": "code",
   "execution_count": 14,
   "metadata": {
    "collapsed": false
   },
   "outputs": [
    {
     "data": {
      "text/plain": [
       "(2L, 3L)"
      ]
     },
     "execution_count": 14,
     "metadata": {},
     "output_type": "execute_result"
    }
   ],
   "source": [
    "A = np.array([[1,2,3],[4,5,6]])\n",
    "B = np.array([[1,2], [3,4],[5,6]])\n",
    "A.shape"
   ]
  },
  {
   "cell_type": "code",
   "execution_count": 15,
   "metadata": {
    "collapsed": false
   },
   "outputs": [
    {
     "data": {
      "text/plain": [
       "(3L, 2L)"
      ]
     },
     "execution_count": 15,
     "metadata": {},
     "output_type": "execute_result"
    }
   ],
   "source": [
    "B.shape"
   ]
  },
  {
   "cell_type": "code",
   "execution_count": 16,
   "metadata": {
    "collapsed": false
   },
   "outputs": [
    {
     "data": {
      "text/plain": [
       "array([[22, 28],\n",
       "       [49, 64]])"
      ]
     },
     "execution_count": 16,
     "metadata": {},
     "output_type": "execute_result"
    }
   ],
   "source": [
    "np.dot(A, B)"
   ]
  },
  {
   "cell_type": "code",
   "execution_count": 18,
   "metadata": {
    "collapsed": false
   },
   "outputs": [
    {
     "data": {
      "text/plain": [
       "(2L, 2L)"
      ]
     },
     "execution_count": 18,
     "metadata": {},
     "output_type": "execute_result"
    }
   ],
   "source": [
    "C = np.array([[1,2],[3,4]])\n",
    "C.shape"
   ]
  },
  {
   "cell_type": "code",
   "execution_count": 19,
   "metadata": {
    "collapsed": false
   },
   "outputs": [
    {
     "data": {
      "text/plain": [
       "(2L, 3L)"
      ]
     },
     "execution_count": 19,
     "metadata": {},
     "output_type": "execute_result"
    }
   ],
   "source": [
    "A.shape"
   ]
  },
  {
   "cell_type": "code",
   "execution_count": 21,
   "metadata": {
    "collapsed": false
   },
   "outputs": [
    {
     "ename": "ValueError",
     "evalue": "shapes (2,3) and (2,2) not aligned: 3 (dim 1) != 2 (dim 0)",
     "output_type": "error",
     "traceback": [
      "\u001b[1;31m---------------------------------------------------------------------------\u001b[0m",
      "\u001b[1;31mValueError\u001b[0m                                Traceback (most recent call last)",
      "\u001b[1;32m<ipython-input-21-c1b0cbbf95c5>\u001b[0m in \u001b[0;36m<module>\u001b[1;34m()\u001b[0m\n\u001b[1;32m----> 1\u001b[1;33m \u001b[0mnp\u001b[0m\u001b[1;33m.\u001b[0m\u001b[0mdot\u001b[0m\u001b[1;33m(\u001b[0m\u001b[0mA\u001b[0m\u001b[1;33m,\u001b[0m \u001b[0mC\u001b[0m\u001b[1;33m)\u001b[0m\u001b[1;33m\u001b[0m\u001b[0m\n\u001b[0m",
      "\u001b[1;31mValueError\u001b[0m: shapes (2,3) and (2,2) not aligned: 3 (dim 1) != 2 (dim 0)"
     ]
    }
   ],
   "source": [
    "np.dot(A, C)"
   ]
  },
  {
   "cell_type": "markdown",
   "metadata": {},
   "source": [
    "### 3.3.3 신경망의 내적\n",
    "* 간단한 신경망을 가정한 후 이를 구현\n",
    "* 여기서는 편향과 활성화 함수를 생략하여, 가중치만 가짐\n",
    "<img src=\"../img/3-14.jpg\" width=\"1000\"></img>"
   ]
  },
  {
   "cell_type": "code",
   "execution_count": 22,
   "metadata": {
    "collapsed": false
   },
   "outputs": [
    {
     "data": {
      "text/plain": [
       "(2L,)"
      ]
     },
     "execution_count": 22,
     "metadata": {},
     "output_type": "execute_result"
    }
   ],
   "source": [
    "X = np.array([1, 2])\n",
    "X.shape"
   ]
  },
  {
   "cell_type": "code",
   "execution_count": 24,
   "metadata": {
    "collapsed": false
   },
   "outputs": [
    {
     "name": "stdout",
     "output_type": "stream",
     "text": [
      "[[1 3 5]\n",
      " [2 4 6]]\n"
     ]
    }
   ],
   "source": [
    "W = np.array([[1, 3, 5], [2, 4, 6]])\n",
    "print (W)"
   ]
  },
  {
   "cell_type": "code",
   "execution_count": 25,
   "metadata": {
    "collapsed": false
   },
   "outputs": [
    {
     "data": {
      "text/plain": [
       "(2L, 3L)"
      ]
     },
     "execution_count": 25,
     "metadata": {},
     "output_type": "execute_result"
    }
   ],
   "source": [
    "W.shape"
   ]
  },
  {
   "cell_type": "code",
   "execution_count": 27,
   "metadata": {
    "collapsed": false
   },
   "outputs": [
    {
     "name": "stdout",
     "output_type": "stream",
     "text": [
      "[ 5 11 17]\n"
     ]
    }
   ],
   "source": [
    "Y = np.dot(X, W)\n",
    "print (Y)"
   ]
  },
  {
   "cell_type": "markdown",
   "metadata": {},
   "source": [
    "## 3.4 3층 신경망 구현하기\n",
    "* 입력부터 출력까지의 처리(순방향 처리)에 대해 구현함\n",
    "<img src=\"../img/3-15.jpg\" width=\"1000\"></img>"
   ]
  },
  {
   "cell_type": "markdown",
   "metadata": {},
   "source": [
    "### 표기법 설명\n",
    "<img src=\"../img/3-16.jpg\" width=\"1000\"></img>"
   ]
  },
  {
   "cell_type": "markdown",
   "metadata": {},
   "source": [
    "### 3.4.2 각 층의 신호 전달 구현하기\n",
    "<img src=\"../img/3-17.jpg\" width=\"1000\"></img>"
   ]
  },
  {
   "cell_type": "markdown",
   "metadata": {},
   "source": [
    "* 이 그림에서 \\\\(a_1^{(1)}\\\\)을 수식으로 나타내면 다음 [식 3.8]과 같음\n",
    "\n",
    "\\\\[ {a_1}^{(1)} = {w_1}^{(1)}_1x_1 + {w_1}^{(1)}_2x_2 + b_1^{(1)} \\\\]"
   ]
  },
  {
   "cell_type": "markdown",
   "metadata": {},
   "source": [
    "* 여기서 행렬의 내적을 이용하면 1층의 '가중치 부분'을 다음 식처럼 간소화 가능\n",
    "\\\\[ {A}^{(1)} = XW^{(1)} + B^{(1)} \\\\]"
   ]
  },
  {
   "cell_type": "markdown",
   "metadata": {},
   "source": [
    "* 이때 행렬 \\\\( A^{(1)}, X, B^{(1)}, W^{(1)}\\\\)은 다음과 같음\n",
    "\\\\[ A^{(1)} = ({a_1}^{(1)} {a_2}^{(1)} {a_3}^{(1)}), X = ( x_1 x_2), B^{(1)} = (b_1^{(1)} b_2^{(1)} b_3^{(1)}) \\\\]\n",
    "\\\\[ W^{(1)} = \n",
    "\\begin{pmatrix}\n",
    "{w_1}^{(1)}_1 & {w_2}^{(1)}_1 & {w_3}^{(1)}_1 \\\\\n",
    "{w_1}^{(1)}_2 & {w_2}^{(1)}_2 & {w_3}^{(1)}_2 \\\\\n",
    "\\end{pmatrix}\n",
    "\\\\]"
   ]
  },
  {
   "cell_type": "code",
   "execution_count": 2,
   "metadata": {
    "collapsed": false
   },
   "outputs": [
    {
     "name": "stdout",
     "output_type": "stream",
     "text": [
      "(2L, 3L)\n",
      "(2L,)\n",
      "(3L,)\n"
     ]
    }
   ],
   "source": [
    "import numpy as np\n",
    "\n",
    "X = np.array([1.0, 0.5])\n",
    "W1 = np.array([[0.1, 0.3, 0.5], [0.2, 0.4, 0.6]])\n",
    "B1 = np.array([0.1, 0.2, 0.3])\n",
    "\n",
    "print(W1.shape)\n",
    "print(X.shape)\n",
    "print(B1.shape)"
   ]
  },
  {
   "cell_type": "code",
   "execution_count": 4,
   "metadata": {
    "collapsed": false
   },
   "outputs": [
    {
     "name": "stdout",
     "output_type": "stream",
     "text": [
      "[ 0.3  0.7  1.1]\n"
     ]
    }
   ],
   "source": [
    "A1 = np.dot(X, W1) + B1\n",
    "print(A1)"
   ]
  },
  {
   "cell_type": "markdown",
   "metadata": {},
   "source": [
    "* 이에 더하여 활성화 함수 (여기서는 시그모이드 함수) 처리를 구현\n",
    "<img src=\"../img/3-18.jpg\" width=\"1000\"></img>"
   ]
  },
  {
   "cell_type": "code",
   "execution_count": 20,
   "metadata": {
    "collapsed": false
   },
   "outputs": [],
   "source": [
    "def sigmoid(x) :\n",
    "    return 1 / (1 + np.exp(-x))"
   ]
  },
  {
   "cell_type": "code",
   "execution_count": 9,
   "metadata": {
    "collapsed": false
   },
   "outputs": [
    {
     "name": "stdout",
     "output_type": "stream",
     "text": [
      "[ 0.3  0.7  1.1]\n",
      "[ 0.57444252  0.66818777  0.75026011]\n"
     ]
    }
   ],
   "source": [
    "Z1 = sigmoid(A1)\n",
    "print(A1)\n",
    "print(Z1)"
   ]
  },
  {
   "cell_type": "markdown",
   "metadata": {},
   "source": [
    "* 그리고 다음으로 1층에서 2층으로 가는 과정 [그림 3.19]을 구현\n",
    "<img src=\"../img/3-19.jpg\" width=\"1000\"></img>"
   ]
  },
  {
   "cell_type": "code",
   "execution_count": 10,
   "metadata": {
    "collapsed": false
   },
   "outputs": [
    {
     "name": "stdout",
     "output_type": "stream",
     "text": [
      "(3L,)\n",
      "(3L, 2L)\n",
      "(2L,)\n"
     ]
    }
   ],
   "source": [
    "W2 = np.array([[0.1, 0.4], [0.2, 0.5], [0.3, 0.6]])\n",
    "B2 = np.array([0.1, 0.2])\n",
    "\n",
    "print(Z1.shape)\n",
    "print(W2.shape)\n",
    "print(B2.shape)"
   ]
  },
  {
   "cell_type": "code",
   "execution_count": 11,
   "metadata": {
    "collapsed": false
   },
   "outputs": [
    {
     "name": "stdout",
     "output_type": "stream",
     "text": [
      "[ 0.51615984  1.21402696]\n",
      "[ 0.62624937  0.7710107 ]\n"
     ]
    }
   ],
   "source": [
    "A2 = np.dot(Z1, W2) + B2\n",
    "Z2 = sigmoid(A2)\n",
    "print(A2)\n",
    "print(Z2)"
   ]
  },
  {
   "cell_type": "markdown",
   "metadata": {},
   "source": [
    "* 마지막으로 2층에서 출력층으로의 신호전달 [그림 3.20]\n",
    "<img src=\"../img/3-20.jpg\" width=\"1000\"></img>"
   ]
  },
  {
   "cell_type": "code",
   "execution_count": 14,
   "metadata": {
    "collapsed": false
   },
   "outputs": [
    {
     "name": "stdout",
     "output_type": "stream",
     "text": [
      "[ 0.31682708  0.69627909]\n"
     ]
    }
   ],
   "source": [
    "def identity_function(x) :\n",
    "    return x\n",
    "\n",
    "W3 = np.array([[0.1, 0.3], [0.2, 0.4]])\n",
    "B3 = np.array([0.1, 0.2])\n",
    "\n",
    "A3 = np.dot(Z2, W3) + B3\n",
    "Y = identity_function(A3)\n",
    "\n",
    "print(A3)"
   ]
  },
  {
   "cell_type": "markdown",
   "metadata": {},
   "source": [
    "* 여기서 항등함수 identity_function을 구현하여 사용\n",
    "    * 기존 은닉층 코드와의 통일성을 위해 사용\n",
    "    * [그림 3.20]에서는 \\\\( \\sigma() \\\\)로 표시"
   ]
  },
  {
   "cell_type": "code",
   "execution_count": 23,
   "metadata": {
    "collapsed": false
   },
   "outputs": [
    {
     "name": "stdout",
     "output_type": "stream",
     "text": [
      "[ 0.31398696  0.68997435]\n"
     ]
    }
   ],
   "source": [
    "def init_network():\n",
    "    network = {}\n",
    "    network['W1'] = np.array([[0.1, 0.3, 0.5], [0.2, 0.4, 0.6]])\n",
    "    network['b1'] = np.array([0.1, 0.2, 0.3])\n",
    "    network['W2'] = np.array([[0.1, 0.4], [0.2, 0.5], [0.3, 0.6]])\n",
    "    network['b2'] = np.array([0.1, 0.2])\n",
    "    network['W3'] = np.array([[0.1, 0.3], [0.2, 0.4]])\n",
    "    network['b3'] = np.array([0.1, 0.2])\n",
    "    \n",
    "    return network\n",
    "\n",
    "def forward(network, x) :\n",
    "    W1, W2, W3 = network['W1'], network['W2'], network['W3']\n",
    "    b1, b2, b3 = network['b1'], network['b2'], network['b3']\n",
    "    \n",
    "    a1 = np.dot(x, W1) + b1\n",
    "    z1 = sigmoid(a1)\n",
    "    a2 = np.dot(z1, W2) + b2\n",
    "    z2 = sigmoid(a2)\n",
    "    a3 = np.dot(z2, W3) + b3\n",
    "    y = identity_function(a3)\n",
    "    \n",
    "    return y\n",
    "\n",
    "network = init_network()\n",
    "\n",
    "x = np.array([1.0, .05])\n",
    "y = forward(network, x)\n",
    "print(y)"
   ]
  },
  {
   "cell_type": "markdown",
   "metadata": {},
   "source": [
    "* init_network() : 가중치와 편향을 초기화 후 dictionary변수 network에 저장\n",
    "*      forward() : 입력 신호를 출력으로 변환하는 일련의 처리과정 (순전파)"
   ]
  },
  {
   "cell_type": "markdown",
   "metadata": {},
   "source": [
    "## 3.5 출력층 설계하기\n",
    "* 신경망은 <b>분류</b>와 <b>회귀</b>에 모두 이용가능\n",
    "* 그러나 출력층에서 사용하는 활성화 함수가 다름\n",
    "    * 회귀 : 항등함수\n",
    "    * 분류 : 소프트맥스 함수"
   ]
  },
  {
   "cell_type": "markdown",
   "metadata": {},
   "source": [
    "### 3.5.1 항등 함수와 소프트맥스 함수 구현하기\n",
    "* \\\\({\\text{항등 함수}}^{identity function} \\\\)는 입력을 그대로 출력\n",
    "<img src=\"../img/3-21.jpg\" width=\"250\"></img>"
   ]
  },
  {
   "cell_type": "markdown",
   "metadata": {
    "collapsed": true
   },
   "source": [
    "* \\\\({\\text{소프트맥스 함수}}^{softmax function} \\\\)의 식은 다음과 같음 [식 3.10]\n",
    "\\\\[ \n",
    "y_k = \\cfrac{\\text{exp}(a_k)}{\\displaystyle\\sum_i^n \\text{exp}(a_i)}\n",
    "\\\\]"
   ]
  },
  {
   "cell_type": "markdown",
   "metadata": {},
   "source": [
    "* 여기서 exp\\\\((x)\\\\)는 \\\\(e^x\\\\)를 뜻하는 \\\\(\\text{지수함수}^{exponential function}\\\\)\n",
    "* n은 출력층의 뉴런 수\n",
    "* \\\\(y_k\\text{는 그중 }k\\\\)번째 출력임을 뜻함\n",
    "* 정리\n",
    "    * 분자 : 입력신호 \\\\(a_k\\\\)의 지수함수\n",
    "    * 분모 : 모든 입력신호의 지수함수의 합"
   ]
  },
  {
   "cell_type": "markdown",
   "metadata": {},
   "source": [
    "* 이를 그림으로 나타내면 다음 [그림 3.22]와 같음\n",
    "<img src=\"../img/3-22.jpg\" width=\"250\"></img>\n",
    "\n",
    "* 이제 소프트 맥스 함수를 구현"
   ]
  },
  {
   "cell_type": "code",
   "execution_count": 3,
   "metadata": {
    "collapsed": false
   },
   "outputs": [
    {
     "name": "stdout",
     "output_type": "stream",
     "text": [
      "[  1.34985881  18.17414537  54.59815003]\n"
     ]
    }
   ],
   "source": [
    "a = np.array([0.3, 2.9, 4.0])\n",
    "exp_a = np.exp(a)\n",
    "print(exp_a)"
   ]
  },
  {
   "cell_type": "code",
   "execution_count": 4,
   "metadata": {
    "collapsed": false
   },
   "outputs": [
    {
     "name": "stdout",
     "output_type": "stream",
     "text": [
      "74.1221542102\n"
     ]
    }
   ],
   "source": [
    "sum_exp_a = np.sum(exp_a)\n",
    "print(sum_exp_a)"
   ]
  },
  {
   "cell_type": "code",
   "execution_count": 5,
   "metadata": {
    "collapsed": false
   },
   "outputs": [
    {
     "name": "stdout",
     "output_type": "stream",
     "text": [
      "[ 0.01821127  0.24519181  0.73659691]\n"
     ]
    }
   ],
   "source": [
    "y = exp_a / sum_exp_a\n",
    "print(y)"
   ]
  },
  {
   "cell_type": "markdown",
   "metadata": {},
   "source": [
    "* 이를 하나의 함수로 구현하면 다음과 같음"
   ]
  },
  {
   "cell_type": "code",
   "execution_count": 6,
   "metadata": {
    "collapsed": true
   },
   "outputs": [],
   "source": [
    "def softmax(a) :\n",
    "    exp_a = np.array(a)\n",
    "    sum_exp_a = np.sum(exp_a)\n",
    "    y = exp_a / sum_exp_a\n",
    "    \n",
    "    return y"
   ]
  },
  {
   "cell_type": "markdown",
   "metadata": {},
   "source": [
    "### 3.5.2 소프트맥스 함수 구현 시 주의점\n",
    "* 컴퓨터로 계산하는 경우 오버플로우 문제가 있음\n",
    "* 지수 함수의 특성상 굉장히 큰 값을 반환하며, 이 값들로 나눌 경우 결과가 '불안정'해짐\n",
    "\n",
    "* 따라서 다음과 같이 식을 개선함\n",
    "\\\\[ \n",
    "y_k = \\cfrac{\\text{exp}(a_k)}{\\displaystyle\\sum_i^n \\text{exp}(a_i)} = \\cfrac{C \\text{exp}(a_k)}{C\\displaystyle\\sum_i^n \\text{exp}(a_i)}\n",
    "= \\cfrac{\\text{exp}(a_k+logC)}{\\displaystyle\\sum_i^n \\text{exp}(a_i+logC)} = \\cfrac{\\text{exp}(a_k+C')}{\\displaystyle\\sum_i^n \\text{exp}(a_i+C')}\n",
    "\\\\]\n",
    "\n",
    "* 다음은 오류 예시와 개선 결과임"
   ]
  },
  {
   "cell_type": "code",
   "execution_count": 7,
   "metadata": {
    "collapsed": false
   },
   "outputs": [
    {
     "name": "stderr",
     "output_type": "stream",
     "text": [
      "D:\\Anaconda2\\lib\\site-packages\\ipykernel\\__main__.py:2: RuntimeWarning: overflow encountered in exp\n",
      "  from ipykernel import kernelapp as app\n",
      "D:\\Anaconda2\\lib\\site-packages\\ipykernel\\__main__.py:2: RuntimeWarning: invalid value encountered in divide\n",
      "  from ipykernel import kernelapp as app\n"
     ]
    },
    {
     "data": {
      "text/plain": [
       "array([ nan,  nan,  nan])"
      ]
     },
     "execution_count": 7,
     "metadata": {},
     "output_type": "execute_result"
    }
   ],
   "source": [
    "a = np.array([1010, 1000, 990])\n",
    "np.exp(a) / np.sum(np.exp(a))"
   ]
  },
  {
   "cell_type": "code",
   "execution_count": 8,
   "metadata": {
    "collapsed": false
   },
   "outputs": [
    {
     "data": {
      "text/plain": [
       "array([  0, -10, -20])"
      ]
     },
     "execution_count": 8,
     "metadata": {},
     "output_type": "execute_result"
    }
   ],
   "source": [
    "c = np.max(a)\n",
    "a-c"
   ]
  },
  {
   "cell_type": "code",
   "execution_count": 9,
   "metadata": {
    "collapsed": false
   },
   "outputs": [
    {
     "data": {
      "text/plain": [
       "array([  1.34912431e-02,   6.12501488e-07,   2.78075245e-11])"
      ]
     },
     "execution_count": 9,
     "metadata": {},
     "output_type": "execute_result"
    }
   ],
   "source": [
    "np.exp(a-c) / np.sum(exp_a)"
   ]
  },
  {
   "cell_type": "markdown",
   "metadata": {},
   "source": [
    "* 이를 개선된 코드로 구현하면 다음과 같음"
   ]
  },
  {
   "cell_type": "code",
   "execution_count": 17,
   "metadata": {
    "collapsed": true
   },
   "outputs": [],
   "source": [
    "def softmax2(a) :\n",
    "    c = np.max(a)\n",
    "    exp_a = np.exp(a - c)\n",
    "    sum_exp_a = np.sum(exp_a)\n",
    "    y = exp_a / sum_exp_a\n",
    "    \n",
    "    return y"
   ]
  },
  {
   "cell_type": "code",
   "execution_count": 18,
   "metadata": {
    "collapsed": false
   },
   "outputs": [
    {
     "name": "stdout",
     "output_type": "stream",
     "text": [
      "[ 0.04166667  0.40277778  0.55555556]\n",
      "[ 0.01821127  0.24519181  0.73659691]\n"
     ]
    }
   ],
   "source": [
    "a = np.array([0.3, 2.9, 4.0])\n",
    "y1 = softmax(a)\n",
    "y2 = softmax2(a)\n",
    "\n",
    "print(y1)\n",
    "print(y2)"
   ]
  },
  {
   "cell_type": "markdown",
   "metadata": {},
   "source": [
    "### 3.5.3 소프트맥스 함수의 특징"
   ]
  },
  {
   "cell_type": "code",
   "execution_count": 20,
   "metadata": {
    "collapsed": false
   },
   "outputs": [
    {
     "name": "stdout",
     "output_type": "stream",
     "text": [
      "1.0\n",
      "1.0\n"
     ]
    }
   ],
   "source": [
    "print(np.sum(y1))\n",
    "print(np.sum(y2))"
   ]
  },
  {
   "cell_type": "markdown",
   "metadata": {},
   "source": [
    "* 위 처럼 소프트맥스 함수의 출력은 0과 1.0 사이 값이며, 출력의 총합은 1임\n",
    "* 소프트맥스 함수의 출력을 '확률'로 해석할 수 있음\n",
    "    * 그러나 각 원소의 대소관계는 변하지 않음\n",
    "    * 일반적인 신경망 분류에서는 가장 큰 출력으로 인식\n",
    "    * 따라서, 소프트맥스 함수를 사용하지 않기도 함"
   ]
  },
  {
   "cell_type": "markdown",
   "metadata": {},
   "source": [
    "### 3.5.4 출력층 뉴련 수 정하기\n",
    "* 출력층 뉴런 수는 풀려는 문제에 맞게 적절히 정해야 함\n",
    "* 다음은 0~9의 숫자 중 하나로 분류하는 문제의 예시\n",
    "<img src=\"../img/3-23.jpg\" width=\"700\"></img>\n",
    "* 출력층은 각각 숫자와 대응하며, 그림의 뉴런 농도가 출력값을 의미함"
   ]
  }
 ],
 "metadata": {
  "anaconda-cloud": {},
  "kernelspec": {
   "display_name": "Python [Root]",
   "language": "python",
   "name": "Python [Root]"
  },
  "language_info": {
   "codemirror_mode": {
    "name": "ipython",
    "version": 2
   },
   "file_extension": ".py",
   "mimetype": "text/x-python",
   "name": "python",
   "nbconvert_exporter": "python",
   "pygments_lexer": "ipython2",
   "version": "2.7.11"
  }
 },
 "nbformat": 4,
 "nbformat_minor": 0
}
