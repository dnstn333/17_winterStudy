{
 "cells": [
  {
   "cell_type": "markdown",
   "metadata": {},
   "source": [
    "# 2. 퍼셉트론\n",
    "* 프랑크 로젠블라트(Frank Rosenblatt)가 1957년에 고안한 알고리즘\n",
    "* 이 이론은 신경망으로 나아가는 중요한 아이디어"
   ]
  },
  {
   "cell_type": "markdown",
   "metadata": {},
   "source": [
    "## 2.1 퍼셉트론이란?\n",
    "* 다수의 신호를 입력받아 하나의 신호로 출력\n",
    "* 퍼셉트론의 신호는 '흐른다/안흐른다' 또는 '1 / 0'"
   ]
  },
  {
   "cell_type": "markdown",
   "metadata": {},
   "source": [
    "<script type=\"text/javascript\" src=\"http://cdn.mathjax.org/mathjax/latest/MathJax.js?config=TeX-AMS-MML_HTMLorMML\" ></script>\n",
    "\n",
    "<img src=\"../img/2-1.jpg\" width=\"250\"></img>\n",
    "* <b>그림 2-1</b>\n",
    "    * \\\\(x_1\\\\)과 \\\\(x_2\\\\)는 입력 신호, \\\\(y\\\\)는 출력신호\n",
    "    * \\\\(w_1\\\\)과 \\\\(w_2\\\\)는 가중치(weight)"
   ]
  },
  {
   "cell_type": "markdown",
   "metadata": {},
   "source": [
    "### 작동 원리\n",
    "\n",
    "* 입력 신호가 뉴런(그림의 원)에 보내질 때, 각각의 고유한 <b>가중치</b>를 곱함 \\\\((w_1x_1, w_2x_2)\\\\)\n",
    "* 이 신호들의 총 합이 정해진 임계값을 초과하는 경우 1을 출력"
   ]
  },
  {
   "cell_type": "markdown",
   "metadata": {},
   "source": [
    "\n",
    "\n",
    "\\\\[ y =\n",
    "  \\begin{cases}\n",
    "    0  & \\quad (w_1 x_1 + w_2 x_2 \\leq \\theta)\\\\\n",
    "    1  & \\quad (w_1 x_1 + w_2 x_2 > \\theta)\\\\\n",
    "  \\end{cases}\n",
    "\\\\]\n",
    "\n",
    "* <b>식 2-1</b>\n",
    "    * 여기서 \\\\(\\theta\\\\)는 <b>임계값</b>"
   ]
  },
  {
   "cell_type": "markdown",
   "metadata": {},
   "source": [
    "## 2.2 단순한 논리 회로\n",
    "\n",
    "### 2.2.1 AND 게이트"
   ]
  },
  {
   "cell_type": "markdown",
   "metadata": {},
   "source": [
    "<img src=\"../img/2-2.jpg\" width=\"350\"></img>\n",
    "\n",
    "+ <b>퍼셉트론 예시</b>\n",
    "    + \\\\((w_1, w_2, \\theta)\\\\)\n",
    "    + (0.5, 0.5, 0.7)\n",
    "    + (0.5, 0.5, 0.8)\n",
    "    + (1.0, 1.0, 1.0)"
   ]
  },
  {
   "cell_type": "markdown",
   "metadata": {},
   "source": [
    "### 2.2.2 NAND 게이트와 OR 게이트"
   ]
  },
  {
   "cell_type": "markdown",
   "metadata": {},
   "source": [
    "<img src=\"../img/2-3.jpg\" width=\"350\"></img>\n",
    "<img src=\"../img/2-4.jpg\" width=\"350\"></img>"
   ]
  },
  {
   "cell_type": "markdown",
   "metadata": {},
   "source": [
    "### 2.3.1 간단한 구현\n",
    "* 간단한 구현으로, X1과 X2를 인수로 받는 AND함수를 작성"
   ]
  },
  {
   "cell_type": "code",
   "execution_count": 1,
   "metadata": {
    "collapsed": true
   },
   "outputs": [],
   "source": [
    "# 매개변수 : x1, x2 +.\n",
    "def AND(x1, x2):\n",
    "    # w1, w2 => 가중치1, 2\n",
    "    #theat => 임계값\n",
    "    w1, w2, theta = 0.5, 0.5, 0.7\n",
    "    tmp = x1*w1 + x2*w2\n",
    "    \n",
    "    if tmp <= theta:\n",
    "        return 0\n",
    "    elif tmp > theta:\n",
    "        return 1"
   ]
  },
  {
   "cell_type": "code",
   "execution_count": 3,
   "metadata": {
    "collapsed": false
   },
   "outputs": [
    {
     "name": "stdout",
     "output_type": "stream",
     "text": [
      "0\n",
      "0\n",
      "0\n",
      "1\n"
     ]
    }
   ],
   "source": [
    "print(AND(0,0))\n",
    "print(AND(1,0))\n",
    "print(AND(0,1))\n",
    "print(AND(1,1))"
   ]
  },
  {
   "cell_type": "markdown",
   "metadata": {},
   "source": [
    "### 2.3.2 가중치와 편향 도입\n",
    "* 앞서 구현한 방식을 다른 방식으로 수정\n",
    "* theta를 bias로 치환"
   ]
  },
  {
   "cell_type": "markdown",
   "metadata": {},
   "source": [
    "\\\\[ y =\n",
    "  \\begin{cases}\n",
    "    0  & \\quad (b + w_1 x_1 + w_2 x_2 \\leq 0)\\\\\n",
    "    1  & \\quad (b + w_1 x_1 + w_2 x_2 \\geq 0)\\\\\n",
    "  \\end{cases}\n",
    "\\\\]\n",
    "\n",
    "* 여기에서 \\\\(b\\\\)를 <b>편향</b>\\\\(|^{bias} \\\\)라 함\n",
    "\n",
    "* 이제 이를 파이선으로 구현"
   ]
  },
  {
   "cell_type": "code",
   "execution_count": 5,
   "metadata": {
    "collapsed": false
   },
   "outputs": [],
   "source": [
    "import numpy as np\n",
    "\n",
    "x = np.array([0,1])       #입력 값 [x1, x2]\n",
    "w = np.array([0.5, 0.5])  #가중치  [w1, w2]\n",
    "b = -0.7                  #편향 (bias)"
   ]
  },
  {
   "cell_type": "code",
   "execution_count": 6,
   "metadata": {
    "collapsed": false
   },
   "outputs": [
    {
     "name": "stdout",
     "output_type": "stream",
     "text": [
      "[ 0.   0.5]\n",
      "0.5\n",
      "-0.2\n"
     ]
    }
   ],
   "source": [
    "print(w*x)\n",
    "print(np.sum(w*x))\n",
    "print(np.sum(w*x) + b)"
   ]
  },
  {
   "cell_type": "markdown",
   "metadata": {},
   "source": [
    "### 2.3.3 가중치와 편향 구현하기\n",
    "* 이제 이를 도입한 AND 게이트를 구현"
   ]
  },
  {
   "cell_type": "code",
   "execution_count": 7,
   "metadata": {
    "collapsed": true
   },
   "outputs": [],
   "source": [
    "def AND(x1, x2):\n",
    "    x = np.array([x1, x2])     #입력 값 [x1, x2]\n",
    "    w = np.array([0.5, 0.5])   #가중치  [w1, w2]\n",
    "    b = -0.7                   #편향 (bias)\n",
    "    \n",
    "    tmp = np.sum(w*x) + b\n",
    "    \n",
    "    if tmp <= 0:\n",
    "        return 0\n",
    "    else:\n",
    "        return 1"
   ]
  },
  {
   "cell_type": "markdown",
   "metadata": {},
   "source": [
    "* 여기서, \n",
    "    * 가중치 (weight)는 각 입력신호가 결과에 주는 영향력(중요도)을 조절\n",
    "    * 편향 (bias)은 어라마나 쉽게 뉴런(노드)를 활성화 하느냐를 조절"
   ]
  },
  {
   "cell_type": "code",
   "execution_count": 8,
   "metadata": {
    "collapsed": true
   },
   "outputs": [],
   "source": [
    "def NAND(x1, x2):\n",
    "    x = np.array([x1, x2])\n",
    "    w = np.array([-0.5, -0.5])\n",
    "    b = 0.7\n",
    "\n",
    "    tmp = np.sum(w*x) + b\n",
    "    \n",
    "    if tmp <= 0:\n",
    "        return 0\n",
    "    else:\n",
    "        return 1\n"
   ]
  },
  {
   "cell_type": "code",
   "execution_count": 9,
   "metadata": {
    "collapsed": true
   },
   "outputs": [],
   "source": [
    "def OR(x1, x2):\n",
    "    x = np.array([x1, x2])\n",
    "    w = np.array([0.5, 0.5])\n",
    "    b = -0.2\n",
    "    \n",
    "    tmp = np.sum(w*x) + b\n",
    "    \n",
    "    if tmp <= 0:\n",
    "        return 0\n",
    "    else:\n",
    "        return 1"
   ]
  },
  {
   "cell_type": "markdown",
   "metadata": {},
   "source": [
    "## 2.4 퍼셉트론의 한계\n",
    "* 퍼셉드론의 한계를 확인하기 위해, XOR 게이트를 구현"
   ]
  },
  {
   "cell_type": "markdown",
   "metadata": {},
   "source": [
    "### 2.4.1 도전! XOR 게이트\n",
    "<img src=\"../img/2-5.jpg\" width=\"350\"></img>"
   ]
  },
  {
   "cell_type": "markdown",
   "metadata": {},
   "source": [
    "* 퍼셉트론 예시\n",
    "    * \\\\((b, w_1, w_2)\\\\)\n",
    "    * (-0.5, 1.0, 1.0)"
   ]
  },
  {
   "cell_type": "markdown",
   "metadata": {},
   "source": [
    "* 이 예시에 대한 퍼셉트론을 식으로 표시하면 다음과 같음\n",
    "\n",
    "\\\\[ y =\n",
    "  \\begin{cases}\n",
    "    0  & \\quad (-0.5 + w_1 x_1 + w_2 x_2 \\leq 0)\\\\\n",
    "    1  & \\quad (-0.5 + w_1 x_1 + w_2 x_2 > 0)\\\\\n",
    "  \\end{cases}\n",
    "\\\\]"
   ]
  },
  {
   "cell_type": "markdown",
   "metadata": {},
   "source": [
    "* 그리고 이를 시각화하면 다음과 같음"
   ]
  },
  {
   "cell_type": "code",
   "execution_count": 10,
   "metadata": {
    "collapsed": false
   },
   "outputs": [
    {
     "data": {
      "image/png": "[encoded data removed]",
      "text/plain": [
       "<matplotlib.figure.Figure at 0x1c1ecc6aeb8>"
      ]
     },
     "metadata": {},
     "output_type": "display_data"
    }
   ],
   "source": [
    "%matplotlib inline\n",
    "\n",
    "import numpy as np\n",
    "import matplotlib\n",
    "import matplotlib.pyplot as plt\n",
    "\n",
    "#line 용 함수\n",
    "def func(x1):\n",
    "    return -x1 +0.5\n",
    "\n",
    "#line 용 변수\n",
    "x1 = np.arange(-3,3, 0.1)\n",
    "x2 = func(x1)\n",
    "\n",
    "#dot 용 변수\n",
    "dotx1_zero = np.array([0,1])\n",
    "dotx2_zero = np.array([0,1])\n",
    "\n",
    "dotx1_one = np.array([0,1])\n",
    "dotx2_one = np.array([1,0])\n",
    "\n",
    "#line 출력\n",
    "plt.plot(x1, x2, label=\"x1+x2 = 0.5\")\n",
    "plt.scatter(dotx1_zero, dotx2_zero, marker='o',color='r', label=\"dots = 0\")\n",
    "plt.scatter(dotx1_one, dotx2_one, marker='+',color='g', label=\"dots = 1\")\n",
    "\n",
    "#서식\n",
    "plt.xlabel(\"x1\")\n",
    "plt.ylabel(\"x2\")\n",
    "\n",
    "plt.legend()\n",
    "plt.show()"
   ]
  },
  {
   "cell_type": "markdown",
   "metadata": {},
   "source": [
    "### 2.4.2 선형과 비선형\n",
    "* 위 그래프에서, <b>선형</b> 영역으로 분류하는 것은 불가능\n",
    "* 하지만 <b>비선형</b> 영역으로 분류하는 것은 가능"
   ]
  },
  {
   "cell_type": "markdown",
   "metadata": {},
   "source": [
    "## 2.5 다층 퍼셉트론이 출동한다면\n",
    "* 사실 퍼셉트론의 강점은 여러 퍼셉트론으로 '층을 쌓아' <b>다중 퍼셉트론</b>\\\\(|^{mulit-layer perceptron} \\\\)을 만드는 것\n",
    "* 그전에 먼저 다른 관점에서 XOR 게이트를 구현\n",
    "<img src=\"../img/2-12.jpg\" width=\"750\"></img>"
   ]
  },
  {
   "cell_type": "code",
   "execution_count": 13,
   "metadata": {
    "collapsed": true
   },
   "outputs": [],
   "source": [
    "def XOR(x1, x2):\n",
    "    s1 = NAND(x1, x2)\n",
    "    s2 = OR(x1, x2)\n",
    "    y = AND(s1, s2)\n",
    "    return y"
   ]
  },
  {
   "cell_type": "code",
   "execution_count": 14,
   "metadata": {
    "collapsed": false
   },
   "outputs": [
    {
     "name": "stdout",
     "output_type": "stream",
     "text": [
      "0\n",
      "1\n",
      "1\n",
      "0\n"
     ]
    }
   ],
   "source": [
    "print(XOR(0, 0))\n",
    "print(XOR(1, 0))\n",
    "print(XOR(0, 1))\n",
    "print(XOR(1, 1))"
   ]
  },
  {
   "cell_type": "markdown",
   "metadata": {},
   "source": [
    "<img src=\"../img/2-13.jpg\" width=\"750\"></img>"
   ]
  },
  {
   "cell_type": "markdown",
   "metadata": {},
   "source": [
    "* 이와같은 구조를 다층 퍼셉트론이라 함\n",
    "* 이 구조의 동작을 자세히 서술하면 다음과 같음\n",
    "    1. 0층(Input Layer)의 두 뉴런이 입력 신호를 받아 1층(Hidden Layer)로 신호를 보낸다.\n",
    "    2. 1층의 뉴런이 2층(Output Layer)의 뉴런으로 신호를 보내고, 2층의 뉴런은 이 신호를 바탕으로 y를 출력한다."
   ]
  }
 ],
 "metadata": {
  "anaconda-cloud": {},
  "kernelspec": {
   "display_name": "Python [default]",
   "language": "python",
   "name": "python3"
  },
  "language_info": {
   "codemirror_mode": {
    "name": "ipython",
    "version": 3
   },
   "file_extension": ".py",
   "mimetype": "text/x-python",
   "name": "python",
   "nbconvert_exporter": "python",
   "pygments_lexer": "ipython3",
   "version": "3.5.2"
  }
 },
 "nbformat": 4,
 "nbformat_minor": 0
}
